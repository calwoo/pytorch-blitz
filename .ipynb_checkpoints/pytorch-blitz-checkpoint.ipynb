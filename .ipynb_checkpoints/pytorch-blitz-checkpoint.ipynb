{
 "cells": [
  {
   "cell_type": "markdown",
   "metadata": {},
   "source": [
    "These are my personal notes (Calvin Woo) on pytorch, following the pytorch blitz tutorial on `https://pytorch.org/tutorials/beginner/deep_learning_60min_blitz.html`."
   ]
  },
  {
   "cell_type": "markdown",
   "metadata": {},
   "source": [
    "### Pytorch?\n",
    "\n",
    "What is PyTorch? Why should I learn another framework... well, because apparently people use this a lot in the research space. Also because its supposibly simpler-- it's basically `numpy` but with CUDA. Sadly, I don't own an nVidia GPU (yet.) =("
   ]
  },
  {
   "cell_type": "code",
   "execution_count": 1,
   "metadata": {},
   "outputs": [],
   "source": [
    "import torch\n",
    "import numpy as np"
   ]
  },
  {
   "cell_type": "markdown",
   "metadata": {},
   "source": [
    "PyTorch, like literally everything, runs on tensors (though there are rumors of the terrible security of tensors, so we should use so-called *named tensors* ooooh."
   ]
  },
  {
   "cell_type": "code",
   "execution_count": 2,
   "metadata": {},
   "outputs": [
    {
     "data": {
      "text/plain": [
       "tensor([[-3.5638e+03,  4.5584e-41, -3.5638e+03],\n",
       "        [ 4.5584e-41,  4.5708e+27,  1.6900e+28],\n",
       "        [ 6.7602e+28,  2.7041e+29,  1.6944e+28],\n",
       "        [ 2.7165e+29,  1.5322e+10,  1.0795e+30],\n",
       "        [ 6.1205e+10,  1.8812e+31,  1.3322e-40]])"
      ]
     },
     "execution_count": 2,
     "metadata": {},
     "output_type": "execute_result"
    }
   ],
   "source": [
    "torch.empty(5,3) # creates an unitialized tensor of dims 5-by-3. it's analogous to np.empty"
   ]
  },
  {
   "cell_type": "code",
   "execution_count": 3,
   "metadata": {},
   "outputs": [
    {
     "data": {
      "text/plain": [
       "array([[1.65939655e-316, 0.00000000e+000, 0.00000000e+000],\n",
       "       [0.00000000e+000, 0.00000000e+000, 0.00000000e+000],\n",
       "       [0.00000000e+000, 0.00000000e+000, 0.00000000e+000],\n",
       "       [0.00000000e+000, 0.00000000e+000, 0.00000000e+000],\n",
       "       [0.00000000e+000, 0.00000000e+000, 0.00000000e+000]])"
      ]
     },
     "execution_count": 3,
     "metadata": {},
     "output_type": "execute_result"
    }
   ],
   "source": [
    "np.empty((5,3)) # weirdly enough, they initialize with absurdly small values..."
   ]
  },
  {
   "cell_type": "code",
   "execution_count": 7,
   "metadata": {},
   "outputs": [
    {
     "name": "stdout",
     "output_type": "stream",
     "text": [
      "tensor([[0.5987, 0.3028, 0.0184],\n",
      "        [0.0792, 0.8377, 0.1094],\n",
      "        [0.9192, 0.5462, 0.3703],\n",
      "        [0.4459, 0.8771, 0.9403],\n",
      "        [0.4651, 0.7750, 0.7797]])\n",
      "[[0.11824628 0.19809565 0.70611485]\n",
      " [0.70990255 0.91092699 0.97373377]\n",
      " [0.75699949 0.5074757  0.6800893 ]\n",
      " [0.53681724 0.05277892 0.24724351]\n",
      " [0.16046111 0.62798722 0.43541926]]\n"
     ]
    }
   ],
   "source": [
    "x = torch.rand(5,3) # make random tensors\n",
    "y = np.random.rand(5,3)\n",
    "print(\"torch: \", x)\n",
    "print(\"numpy: \", y)"
   ]
  },
  {
   "cell_type": "code",
   "execution_count": 13,
   "metadata": {},
   "outputs": [
    {
     "name": "stdout",
     "output_type": "stream",
     "text": [
      "tensor([[0, 0, 0],\n",
      "        [0, 0, 0],\n",
      "        [0, 0, 0],\n",
      "        [0, 0, 0],\n",
      "        [0, 0, 0]])\n",
      "[[0 0 0]\n",
      " [0 0 0]\n",
      " [0 0 0]\n",
      " [0 0 0]\n",
      " [0 0 0]]\n"
     ]
    }
   ],
   "source": [
    "x = torch.zeros(5,3, dtype=torch.long) # so, the same thing?\n",
    "y = np.zeros((5,3), dtype=np.int) # can also use np.long\n",
    "print(\"torch: \", x)\n",
    "print(\"numpy: \", y)"
   ]
  },
  {
   "cell_type": "code",
   "execution_count": 15,
   "metadata": {},
   "outputs": [
    {
     "name": "stdout",
     "output_type": "stream",
     "text": [
      "torch:  tensor([1, 2, 3])\n",
      "numpy:  [1 2 3]\n"
     ]
    }
   ],
   "source": [
    "x = torch.tensor([1,2,3])\n",
    "y = np.array([1,2,3])\n",
    "print(\"torch: \", x)\n",
    "print(\"numpy: \", y)"
   ]
  },
  {
   "cell_type": "code",
   "execution_count": null,
   "metadata": {},
   "outputs": [],
   "source": []
  }
 ],
 "metadata": {
  "kernelspec": {
   "display_name": "Python 3",
   "language": "python",
   "name": "python3"
  },
  "language_info": {
   "codemirror_mode": {
    "name": "ipython",
    "version": 3
   },
   "file_extension": ".py",
   "mimetype": "text/x-python",
   "name": "python",
   "nbconvert_exporter": "python",
   "pygments_lexer": "ipython3",
   "version": "3.6.7"
  }
 },
 "nbformat": 4,
 "nbformat_minor": 2
}
