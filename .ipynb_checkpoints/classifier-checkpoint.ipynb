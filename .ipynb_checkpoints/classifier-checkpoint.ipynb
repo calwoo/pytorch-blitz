{
 "cells": [
  {
   "cell_type": "markdown",
   "metadata": {},
   "source": [
    "## Fun time with pytorch\n",
    "\n",
    "Okay, we'll modify the previous nn architecture and combine it all together to build a classifier for images."
   ]
  },
  {
   "cell_type": "code",
   "execution_count": 1,
   "metadata": {},
   "outputs": [],
   "source": [
    "import torch\n",
    "import torch.nn as nn\n",
    "import torch.nn.functional as F"
   ]
  },
  {
   "cell_type": "markdown",
   "metadata": {},
   "source": [
    "### Data\n",
    "\n",
    "First thing is first. We gotta get a dataset up and running. `tensorflow` a bunch of pre-processed datasets to play with. For image nets, so does `pytorch`. They call it `torchvision` (oh, so that's what it is.)"
   ]
  },
  {
   "cell_type": "code",
   "execution_count": 2,
   "metadata": {},
   "outputs": [],
   "source": [
    "import torchvision\n",
    "import torchvision.transforms as transforms"
   ]
  },
  {
   "cell_type": "code",
   "execution_count": 3,
   "metadata": {},
   "outputs": [
    {
     "name": "stdout",
     "output_type": "stream",
     "text": [
      "Files already downloaded and verified\n",
      "Files already downloaded and verified\n"
     ]
    }
   ],
   "source": [
    "# preprocessing pipeline\n",
    "transform = transforms.Compose([\n",
    "    transforms.ToTensor(),\n",
    "    transforms.Normalize((0.5,0.5,0.5), (0.5,0.5,0.5))])\n",
    "trainset = torchvision.datasets.CIFAR10(\n",
    "    root = \"./data\",\n",
    "    train = True,\n",
    "    download = True,\n",
    "    transform = transform)\n",
    "trainloader = torch.utils.data.DataLoader(\n",
    "    trainset,\n",
    "    batch_size = 4,\n",
    "    shuffle = True,\n",
    "    num_workers = 2)\n",
    "testset = torchvision.datasets.CIFAR10(\n",
    "    root='./data',\n",
    "    train=False,                                   \n",
    "    download=True,\n",
    "    transform=transform)\n",
    "testloader = torch.utils.data.DataLoader(\n",
    "    testset, \n",
    "    batch_size=4,\n",
    "    shuffle=False,\n",
    "    num_workers=2)\n",
    "\n",
    "classes = ('plane', 'car', 'bird', 'cat',\n",
    "           'deer', 'dog', 'frog', 'horse', 'ship', 'truck')"
   ]
  },
  {
   "cell_type": "markdown",
   "metadata": {},
   "source": [
    "What do images look like?"
   ]
  },
  {
   "cell_type": "code",
   "execution_count": 4,
   "metadata": {},
   "outputs": [],
   "source": [
    "import matplotlib.pyplot as plt\n",
    "import numpy as np"
   ]
  },
  {
   "cell_type": "code",
   "execution_count": 5,
   "metadata": {},
   "outputs": [],
   "source": [
    "data_iterator = iter(trainloader) # create an iterator\n",
    "images, labels = data_iterator.next()"
   ]
  },
  {
   "cell_type": "code",
   "execution_count": 6,
   "metadata": {},
   "outputs": [
    {
     "name": "stdout",
     "output_type": "stream",
     "text": [
      "torch.Size([3, 36, 138])\n"
     ]
    },
    {
     "data": {
      "text/plain": [
       "<matplotlib.image.AxesImage at 0x7fcf3a363828>"
      ]
     },
     "execution_count": 6,
     "metadata": {},
     "output_type": "execute_result"
    },
    {
     "data": {
      "image/png": "[encoded data removed]",
      "text/plain": [
       "<Figure size 432x288 with 1 Axes>"
      ]
     },
     "metadata": {
      "needs_background": "light"
     },
     "output_type": "display_data"
    }
   ],
   "source": [
    "proc_images = torchvision.utils.make_grid(images)\n",
    "proc_images = proc_images / 2 + 0.5\n",
    "print(proc_images.size())\n",
    "plt.imshow(np.transpose(proc_images.numpy(), (1,2,0)))"
   ]
  },
  {
   "cell_type": "code",
   "execution_count": 7,
   "metadata": {},
   "outputs": [
    {
     "data": {
      "text/plain": [
       "['frog', 'frog', 'frog', 'horse']"
      ]
     },
     "execution_count": 7,
     "metadata": {},
     "output_type": "execute_result"
    }
   ],
   "source": [
    "[classes[labels[j]] for j in range(4)]"
   ]
  },
  {
   "cell_type": "markdown",
   "metadata": {},
   "source": [
    "### Network\n",
    "\n",
    "So we build our model as last time."
   ]
  },
  {
   "cell_type": "code",
   "execution_count": 8,
   "metadata": {},
   "outputs": [],
   "source": [
    "class Net(nn.Module):\n",
    "    def __init__(self):\n",
    "        super(Net, self).__init__() # initializes from the superclass\n",
    "        ## our net will be as in the image above\n",
    "        self.conv1 = nn.Conv2d(3, 6, 5) # arguments are 1 input channel, 6 output channels, 5x5 kernel size\n",
    "        self.conv2 = nn.Conv2d(6, 16, 5)\n",
    "        self.fc1 = nn.Linear(16*5*5, 120)\n",
    "        self.fc2 = nn.Linear(120, 84)\n",
    "        self.fc3 = nn.Linear(84, 10)\n",
    "        \n",
    "    def forward(self, x):\n",
    "        # forward propagation\n",
    "        # note that in the architecture we have subsampling layers. this is implemented as 2d maxpools\n",
    "        x = F.max_pool2d(F.relu(self.conv1(x)), (2,2)) #2x2 max pooling layer\n",
    "        x = F.max_pool2d(F.relu(self.conv2(x)), (2,2))\n",
    "        # now we're at the fc layers\n",
    "        # here, x is a 2d image, but we gotta flatten it for input into the fc layers\n",
    "        x = x.view(-1, self.flatten(x))\n",
    "        x = F.relu(self.fc1(x))\n",
    "        x = F.relu(self.fc2(x))\n",
    "        x = self.fc3(x)\n",
    "        return x\n",
    "    \n",
    "    def flatten(self, x):\n",
    "        shape = x.size()[1:]\n",
    "        dims = 1\n",
    "        for d in shape:\n",
    "            dims *= d\n",
    "        return dims"
   ]
  },
  {
   "cell_type": "code",
   "execution_count": 9,
   "metadata": {},
   "outputs": [],
   "source": [
    "model = Net()"
   ]
  },
  {
   "cell_type": "markdown",
   "metadata": {},
   "source": [
    "### Loss\n",
    " \n",
    "Loss is given by cross-entropy and we will optimize using SGD with momentum."
   ]
  },
  {
   "cell_type": "code",
   "execution_count": 10,
   "metadata": {},
   "outputs": [],
   "source": [
    "import torch.optim as optim"
   ]
  },
  {
   "cell_type": "code",
   "execution_count": 11,
   "metadata": {},
   "outputs": [],
   "source": [
    "criterion = nn.CrossEntropyLoss()\n",
    "optimizer = optim.SGD(model.parameters(), lr=0.001, momentum=0.9)"
   ]
  },
  {
   "cell_type": "markdown",
   "metadata": {},
   "source": [
    "### Train\n",
    "\n",
    "Loop over data and update the parameters as we go along."
   ]
  },
  {
   "cell_type": "code",
   "execution_count": 12,
   "metadata": {},
   "outputs": [
    {
     "name": "stdout",
     "output_type": "stream",
     "text": [
      "[1,  2000] loss: 2.208\n",
      "[1,  4000] loss: 1.885\n",
      "[1,  6000] loss: 1.675\n",
      "[1,  8000] loss: 1.611\n",
      "[1, 10000] loss: 1.504\n",
      "[1, 12000] loss: 1.492\n",
      "[2,  2000] loss: 1.394\n",
      "[2,  4000] loss: 1.361\n",
      "[2,  6000] loss: 1.351\n",
      "[2,  8000] loss: 1.320\n",
      "[2, 10000] loss: 1.302\n",
      "[2, 12000] loss: 1.289\n",
      "Finished Training\n"
     ]
    }
   ],
   "source": [
    "num_loops = 2\n",
    "\n",
    "for episode in range(num_loops):\n",
    "    total_loss = 0\n",
    "    for i, data in enumerate(trainloader, 0):\n",
    "        inputs, labels = data\n",
    "        optimizer.zero_grad()\n",
    "        \n",
    "        # forward\n",
    "        out = model(inputs)\n",
    "        # loss\n",
    "        loss = criterion(out, labels)\n",
    "        # backward\n",
    "        loss.backward()\n",
    "        # update params\n",
    "        optimizer.step()\n",
    "        \n",
    "        # stats\n",
    "        total_loss += loss\n",
    "        if i % 2000 == 1999:    # print every 2000 mini-batches\n",
    "            print('[%d, %5d] loss: %.3f' %\n",
    "                  (episode + 1, i + 1, total_loss / 2000))\n",
    "            total_loss = 0.0\n",
    "\n",
    "print('Finished Training')"
   ]
  },
  {
   "cell_type": "markdown",
   "metadata": {},
   "source": [
    "### Test\n",
    "\n",
    "how did we do"
   ]
  },
  {
   "cell_type": "code",
   "execution_count": 13,
   "metadata": {},
   "outputs": [
    {
     "name": "stdout",
     "output_type": "stream",
     "text": [
      "real:  ['cat', 'ship', 'ship', 'plane']\n",
      "predicted:  ['cat', 'car', 'car', 'plane']\n"
     ]
    },
    {
     "data": {
      "image/png": "[encoded data removed]",
      "text/plain": [
       "<Figure size 432x288 with 1 Axes>"
      ]
     },
     "metadata": {
      "needs_background": "light"
     },
     "output_type": "display_data"
    }
   ],
   "source": [
    "data_iterator = iter(testloader) # create an iterator\n",
    "images, labels = data_iterator.next()\n",
    "\n",
    "proc_images = torchvision.utils.make_grid(images)\n",
    "proc_images = proc_images / 2 + 0.5\n",
    "plt.imshow(np.transpose(proc_images.numpy(), (1,2,0)))\n",
    "\n",
    "print(\"real: \", [classes[labels[j]] for j in range(4)])\n",
    "\n",
    "out = model(images)\n",
    "_, predicted = torch.max(out, 1)\n",
    "print(\"predicted: \", [classes[predicted[j]] for j in range(4)])"
   ]
  },
  {
   "cell_type": "code",
   "execution_count": 14,
   "metadata": {},
   "outputs": [
    {
     "name": "stdout",
     "output_type": "stream",
     "text": [
      "Accuracy of the network on the 10000 test images: 52 %\n"
     ]
    }
   ],
   "source": [
    "correct = 0\n",
    "total = 0\n",
    "with torch.no_grad():\n",
    "    for data in testloader:\n",
    "        images, labels = data\n",
    "        out = model(images)\n",
    "        _, predicted = torch.max(out.data, 1)\n",
    "        total += labels.size(0)\n",
    "        correct += (predicted == labels).sum().item()\n",
    "\n",
    "print('Accuracy of the network on the 10000 test images: %d %%' % (\n",
    "    100 * correct / total))"
   ]
  },
  {
   "cell_type": "code",
   "execution_count": null,
   "metadata": {},
   "outputs": [],
   "source": []
  }
 ],
 "metadata": {
  "kernelspec": {
   "display_name": "Python 3",
   "language": "python",
   "name": "python3"
  },
  "language_info": {
   "codemirror_mode": {
    "name": "ipython",
    "version": 3
   },
   "file_extension": ".py",
   "mimetype": "text/x-python",
   "name": "python",
   "nbconvert_exporter": "python",
   "pygments_lexer": "ipython3",
   "version": "3.6.7"
  }
 },
 "nbformat": 4,
 "nbformat_minor": 2
}
