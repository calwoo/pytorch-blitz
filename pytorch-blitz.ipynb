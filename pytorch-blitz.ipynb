{
 "cells": [
  {
   "cell_type": "markdown",
   "metadata": {},
   "source": [
    "These are my personal notes (Calvin Woo) on pytorch, following the pytorch blitz tutorial on `https://pytorch.org/tutorials/beginner/deep_learning_60min_blitz.html`."
   ]
  },
  {
   "cell_type": "markdown",
   "metadata": {},
   "source": [
    "### Pytorch?\n",
    "\n",
    "What is PyTorch? Why should I learn another framework... well, because apparently people use this a lot in the research space. Also because its supposibly simpler-- it's basically `numpy` but with CUDA. Sadly, I don't own an nVidia GPU (yet.) =("
   ]
  },
  {
   "cell_type": "code",
   "execution_count": 1,
   "metadata": {},
   "outputs": [],
   "source": [
    "import torch\n",
    "import numpy as np"
   ]
  },
  {
   "cell_type": "markdown",
   "metadata": {},
   "source": [
    "PyTorch, like literally everything, runs on tensors (though there are rumors of the terrible security of tensors, so we should use so-called *named tensors* ooooh."
   ]
  },
  {
   "cell_type": "code",
   "execution_count": 2,
   "metadata": {},
   "outputs": [
    {
     "data": {
      "text/plain": [
       "tensor([[-5.8209e-03,  4.5761e-41, -5.8209e-03],\n",
       "        [ 4.5761e-41,  1.7832e+25,  4.1906e-38],\n",
       "        [ 7.1329e+25,  8.1413e-13,  1.1094e+27],\n",
       "        [ 3.9285e+09,  4.8124e-38,  6.7003e-37],\n",
       "        [ 4.5708e+27,  1.6900e+28,  6.7602e+28]])"
      ]
     },
     "execution_count": 2,
     "metadata": {},
     "output_type": "execute_result"
    }
   ],
   "source": [
    "torch.empty(5,3) # creates an unitialized tensor of dims 5-by-3. it's analogous to np.empty"
   ]
  },
  {
   "cell_type": "code",
   "execution_count": 3,
   "metadata": {},
   "outputs": [
    {
     "data": {
      "text/plain": [
       "array([[2.86351437e-316, 0.00000000e+000, 0.00000000e+000],\n",
       "       [0.00000000e+000, 0.00000000e+000, 0.00000000e+000],\n",
       "       [0.00000000e+000, 0.00000000e+000, 0.00000000e+000],\n",
       "       [0.00000000e+000, 0.00000000e+000, 0.00000000e+000],\n",
       "       [0.00000000e+000, 0.00000000e+000, 0.00000000e+000]])"
      ]
     },
     "execution_count": 3,
     "metadata": {},
     "output_type": "execute_result"
    }
   ],
   "source": [
    "np.empty((5,3)) # weirdly enough, they initialize with absurdly small values..."
   ]
  },
  {
   "cell_type": "code",
   "execution_count": 4,
   "metadata": {},
   "outputs": [
    {
     "name": "stdout",
     "output_type": "stream",
     "text": [
      "torch:  tensor([[0.8590, 0.0403, 0.1278],\n",
      "        [0.0300, 0.1903, 0.2185],\n",
      "        [0.6671, 0.8325, 0.9415],\n",
      "        [0.3203, 0.9969, 0.0351],\n",
      "        [0.6110, 0.2400, 0.8261]])\n",
      "numpy:  [[0.48665726 0.68455315 0.08259307]\n",
      " [0.31919208 0.63861245 0.58766955]\n",
      " [0.60985265 0.18576828 0.55926261]\n",
      " [0.16383985 0.31392393 0.02474209]\n",
      " [0.96914943 0.51125412 0.86356558]]\n"
     ]
    }
   ],
   "source": [
    "x = torch.rand(5,3) # make random tensors\n",
    "y = np.random.rand(5,3)\n",
    "print(\"torch: \", x)\n",
    "print(\"numpy: \", y)"
   ]
  },
  {
   "cell_type": "code",
   "execution_count": 5,
   "metadata": {},
   "outputs": [
    {
     "name": "stdout",
     "output_type": "stream",
     "text": [
      "torch:  tensor([[0, 0, 0],\n",
      "        [0, 0, 0],\n",
      "        [0, 0, 0],\n",
      "        [0, 0, 0],\n",
      "        [0, 0, 0]])\n",
      "numpy:  [[0 0 0]\n",
      " [0 0 0]\n",
      " [0 0 0]\n",
      " [0 0 0]\n",
      " [0 0 0]]\n"
     ]
    }
   ],
   "source": [
    "x = torch.zeros(5,3, dtype=torch.long) # so, the same thing?\n",
    "y = np.zeros((5,3), dtype=np.int) # can also use np.long\n",
    "print(\"torch: \", x)\n",
    "print(\"numpy: \", y)"
   ]
  },
  {
   "cell_type": "code",
   "execution_count": 6,
   "metadata": {},
   "outputs": [
    {
     "name": "stdout",
     "output_type": "stream",
     "text": [
      "torch:  tensor([1, 2, 3])\n",
      "numpy:  [1 2 3]\n"
     ]
    }
   ],
   "source": [
    "x = torch.tensor([1,2,3])\n",
    "y = np.array([1,2,3])\n",
    "print(\"torch: \", x)\n",
    "print(\"numpy: \", y)"
   ]
  },
  {
   "cell_type": "code",
   "execution_count": null,
   "metadata": {},
   "outputs": [],
   "source": []
  }
 ],
 "metadata": {
  "kernelspec": {
   "display_name": "Python 3",
   "language": "python",
   "name": "python3"
  },
  "language_info": {
   "codemirror_mode": {
    "name": "ipython",
    "version": 3
   },
   "file_extension": ".py",
   "mimetype": "text/x-python",
   "name": "python",
   "nbconvert_exporter": "python",
   "pygments_lexer": "ipython3",
   "version": "3.6.7"
  }
 },
 "nbformat": 4,
 "nbformat_minor": 2
}
